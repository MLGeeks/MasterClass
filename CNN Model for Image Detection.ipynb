{
 "cells": [
  {
   "cell_type": "code",
   "execution_count": 75,
   "id": "fbf60e50",
   "metadata": {},
   "outputs": [],
   "source": [
    "import tensorflow as tf\n",
    "from keras_preprocessing.image import ImageDataGenerator"
   ]
  },
  {
   "cell_type": "code",
   "execution_count": 76,
   "id": "9581126d",
   "metadata": {},
   "outputs": [
    {
     "data": {
      "text/plain": [
       "'2.9.1'"
      ]
     },
     "execution_count": 76,
     "metadata": {},
     "output_type": "execute_result"
    }
   ],
   "source": [
    "# Verify tensorflow library is 2.0 and above\n",
    "tf.__version__"
   ]
  },
  {
   "cell_type": "markdown",
   "id": "3004d57d",
   "metadata": {},
   "source": [
    "# Part-1 Data Preprocessing \n",
    "- Apply transformation on training set, Image augmentation to avoid overfitting \n",
    "    - We will use Keras APIs for data preprocessing. (https://www.tensorflow.org/api_docs/python/tf/keras/preprocessing/image/ImageDataGenerator)"
   ]
  },
  {
   "cell_type": "code",
   "execution_count": 77,
   "id": "59ee3fe4",
   "metadata": {},
   "outputs": [],
   "source": [
    "train_datagen = ImageDataGenerator(\n",
    "        rescale=1./255,\n",
    "        shear_range=0.2,\n",
    "        zoom_range=0.2,\n",
    "        horizontal_flip=True)"
   ]
  },
  {
   "cell_type": "code",
   "execution_count": 62,
   "id": "9c01aa34",
   "metadata": {},
   "outputs": [
    {
     "name": "stdout",
     "output_type": "stream",
     "text": [
      "Found 8000 images belonging to 2 classes.\n"
     ]
    }
   ],
   "source": [
    "# Specify the path of the training set, target image size \n",
    "train_generator = train_datagen.flow_from_directory(\n",
    "        'dataset/training_set',\n",
    "        target_size=(64, 64),\n",
    "        batch_size=32,\n",
    "        class_mode='binary')"
   ]
  },
  {
   "cell_type": "code",
   "execution_count": 63,
   "id": "c92459e1",
   "metadata": {},
   "outputs": [],
   "source": [
    "# Scaling the test image data, will not do any other transformation\n",
    "test_datagen = ImageDataGenerator(rescale=1./255)"
   ]
  },
  {
   "cell_type": "code",
   "execution_count": 64,
   "id": "3c5b11f3",
   "metadata": {},
   "outputs": [
    {
     "name": "stdout",
     "output_type": "stream",
     "text": [
      "Found 2000 images belonging to 2 classes.\n"
     ]
    }
   ],
   "source": [
    "test_set = test_datagen.flow_from_directory(\n",
    "        'dataset/test_set',\n",
    "        target_size=(64, 64),\n",
    "        batch_size=32,\n",
    "        class_mode='binary')"
   ]
  },
  {
   "cell_type": "code",
   "execution_count": null,
   "id": "db835cbc",
   "metadata": {},
   "outputs": [],
   "source": []
  },
  {
   "cell_type": "code",
   "execution_count": 78,
   "id": "26562199",
   "metadata": {},
   "outputs": [],
   "source": [
    "cnn = tf.keras.models.Sequential()"
   ]
  },
  {
   "cell_type": "markdown",
   "id": "afa111b3",
   "metadata": {},
   "source": [
    "# 1. Add convolutional layer"
   ]
  },
  {
   "cell_type": "code",
   "execution_count": 79,
   "id": "bcb1868d",
   "metadata": {},
   "outputs": [],
   "source": [
    "# Chose # of filters, Kernel_size(filter size), activation = 'relu'\n",
    "cnn.add(tf.keras.layers.Conv2D(filters=32,kernel_size=3, activation='relu', input_shape=[64,64,3]))"
   ]
  },
  {
   "cell_type": "markdown",
   "id": "79eed21c",
   "metadata": {},
   "source": [
    "# 2. Pooling layer"
   ]
  },
  {
   "cell_type": "code",
   "execution_count": 80,
   "id": "e9b191ae",
   "metadata": {},
   "outputs": [],
   "source": [
    "cnn.add(tf.keras.layers.MaxPool2D(pool_size=2, strides=2))"
   ]
  },
  {
   "cell_type": "markdown",
   "id": "e0be9612",
   "metadata": {},
   "source": [
    "# 3. Add additonal convolutional layer"
   ]
  },
  {
   "cell_type": "code",
   "execution_count": 81,
   "id": "3dff6f20",
   "metadata": {},
   "outputs": [],
   "source": [
    "# Remove the input layer\n",
    "cnn.add(tf.keras.layers.Conv2D(filters=32,kernel_size=3, activation='relu'))\n",
    "cnn.add(tf.keras.layers.MaxPool2D(pool_size=2, strides=2))"
   ]
  },
  {
   "cell_type": "markdown",
   "id": "5939293e",
   "metadata": {},
   "source": [
    "# 3. Flattening"
   ]
  },
  {
   "cell_type": "code",
   "execution_count": 82,
   "id": "a212d667",
   "metadata": {},
   "outputs": [],
   "source": [
    "# Flatten the CN ouput which can be input a ANN\n",
    "cnn.add(tf.keras.layers.Flatten())"
   ]
  },
  {
   "cell_type": "markdown",
   "id": "bad7b311",
   "metadata": {},
   "source": [
    "# 4. Full connection"
   ]
  },
  {
   "cell_type": "code",
   "execution_count": 83,
   "id": "f367fa3d",
   "metadata": {},
   "outputs": [],
   "source": [
    "cnn.add(tf.keras.layers.Dense(units=128, activation = 'relu'))"
   ]
  },
  {
   "cell_type": "markdown",
   "id": "086bdd5b",
   "metadata": {},
   "source": [
    "# 5. Output Layer"
   ]
  },
  {
   "cell_type": "code",
   "execution_count": 85,
   "id": "1ffb8d5a",
   "metadata": {},
   "outputs": [],
   "source": [
    "cnn.add(tf.keras.layers.Dense(units=1, activation = 'sigmoid'))"
   ]
  },
  {
   "cell_type": "code",
   "execution_count": 86,
   "id": "2e4fd142",
   "metadata": {},
   "outputs": [],
   "source": [
    "#cnn.summary()"
   ]
  },
  {
   "cell_type": "markdown",
   "id": "eb741d66",
   "metadata": {},
   "source": [
    "# 6. Training the cnn model "
   ]
  },
  {
   "cell_type": "markdown",
   "id": "f374191f",
   "metadata": {},
   "source": [
    "### Compiling the CNN"
   ]
  },
  {
   "cell_type": "code",
   "execution_count": 87,
   "id": "ebdeeac6",
   "metadata": {},
   "outputs": [],
   "source": [
    "cnn.compile(optimizer='adam', loss = 'binary_crossentropy', metrics = ['accuracy'])"
   ]
  },
  {
   "cell_type": "markdown",
   "id": "22eb670a",
   "metadata": {},
   "source": [
    "### Trianing on training data and evaluate on test data"
   ]
  },
  {
   "cell_type": "code",
   "execution_count": 95,
   "id": "74af3bfe",
   "metadata": {},
   "outputs": [
    {
     "name": "stdout",
     "output_type": "stream",
     "text": [
      "Epoch 1/25\n",
      "250/250 [==============================] - 136s 545ms/step - loss: 0.4020 - accuracy: 0.8152 - val_loss: 0.4534 - val_accuracy: 0.7870\n",
      "Epoch 2/25\n",
      "250/250 [==============================] - 61s 242ms/step - loss: 0.3991 - accuracy: 0.8167 - val_loss: 0.4377 - val_accuracy: 0.8025\n",
      "Epoch 3/25\n",
      "250/250 [==============================] - 58s 232ms/step - loss: 0.3802 - accuracy: 0.8314 - val_loss: 0.4434 - val_accuracy: 0.7945\n",
      "Epoch 4/25\n",
      "250/250 [==============================] - 57s 227ms/step - loss: 0.3703 - accuracy: 0.8369 - val_loss: 0.4866 - val_accuracy: 0.7800\n",
      "Epoch 5/25\n",
      "250/250 [==============================] - 60s 241ms/step - loss: 0.3574 - accuracy: 0.8386 - val_loss: 0.4630 - val_accuracy: 0.7875\n",
      "Epoch 6/25\n",
      "250/250 [==============================] - 63s 250ms/step - loss: 0.3416 - accuracy: 0.8466 - val_loss: 0.4729 - val_accuracy: 0.7900\n",
      "Epoch 7/25\n",
      "250/250 [==============================] - 58s 233ms/step - loss: 0.3319 - accuracy: 0.8536 - val_loss: 0.4351 - val_accuracy: 0.8130\n",
      "Epoch 8/25\n",
      "250/250 [==============================] - 57s 229ms/step - loss: 0.3152 - accuracy: 0.8646 - val_loss: 0.4596 - val_accuracy: 0.8005\n",
      "Epoch 9/25\n",
      "250/250 [==============================] - 58s 231ms/step - loss: 0.3064 - accuracy: 0.8689 - val_loss: 0.5131 - val_accuracy: 0.7945\n",
      "Epoch 10/25\n",
      "250/250 [==============================] - 58s 231ms/step - loss: 0.2949 - accuracy: 0.8694 - val_loss: 0.4736 - val_accuracy: 0.8115\n",
      "Epoch 11/25\n",
      "250/250 [==============================] - 57s 230ms/step - loss: 0.2811 - accuracy: 0.8806 - val_loss: 0.4521 - val_accuracy: 0.8135\n",
      "Epoch 12/25\n",
      "250/250 [==============================] - 104s 417ms/step - loss: 0.2699 - accuracy: 0.8881 - val_loss: 0.4772 - val_accuracy: 0.8035\n",
      "Epoch 13/25\n",
      "250/250 [==============================] - 81s 322ms/step - loss: 0.2505 - accuracy: 0.8945 - val_loss: 0.4913 - val_accuracy: 0.8135\n",
      "Epoch 14/25\n",
      "250/250 [==============================] - 56s 224ms/step - loss: 0.2521 - accuracy: 0.8913 - val_loss: 0.4852 - val_accuracy: 0.7975\n",
      "Epoch 15/25\n",
      "250/250 [==============================] - 47s 187ms/step - loss: 0.2426 - accuracy: 0.9016 - val_loss: 0.4858 - val_accuracy: 0.7935\n",
      "Epoch 16/25\n",
      "250/250 [==============================] - 48s 192ms/step - loss: 0.2195 - accuracy: 0.9097 - val_loss: 0.6751 - val_accuracy: 0.7645\n",
      "Epoch 17/25\n",
      "250/250 [==============================] - 48s 190ms/step - loss: 0.2113 - accuracy: 0.9136 - val_loss: 0.5517 - val_accuracy: 0.7935\n",
      "Epoch 18/25\n",
      "250/250 [==============================] - 47s 188ms/step - loss: 0.1941 - accuracy: 0.9225 - val_loss: 0.5368 - val_accuracy: 0.8180\n",
      "Epoch 19/25\n",
      "250/250 [==============================] - 49s 196ms/step - loss: 0.1878 - accuracy: 0.9246 - val_loss: 0.5499 - val_accuracy: 0.8105\n",
      "Epoch 20/25\n",
      "250/250 [==============================] - 48s 190ms/step - loss: 0.1775 - accuracy: 0.9323 - val_loss: 0.5961 - val_accuracy: 0.7970\n",
      "Epoch 21/25\n",
      "250/250 [==============================] - 58s 234ms/step - loss: 0.1846 - accuracy: 0.9251 - val_loss: 0.5672 - val_accuracy: 0.8040\n",
      "Epoch 22/25\n",
      "250/250 [==============================] - 58s 230ms/step - loss: 0.1617 - accuracy: 0.9375 - val_loss: 0.6669 - val_accuracy: 0.7870\n",
      "Epoch 23/25\n",
      "250/250 [==============================] - 58s 232ms/step - loss: 0.1773 - accuracy: 0.9283 - val_loss: 0.5872 - val_accuracy: 0.7980\n",
      "Epoch 24/25\n",
      "250/250 [==============================] - 57s 228ms/step - loss: 0.1521 - accuracy: 0.9386 - val_loss: 0.5851 - val_accuracy: 0.8055\n",
      "Epoch 25/25\n",
      "250/250 [==============================] - 61s 244ms/step - loss: 0.1453 - accuracy: 0.9414 - val_loss: 0.6417 - val_accuracy: 0.8075\n"
     ]
    },
    {
     "data": {
      "text/plain": [
       "<keras.callbacks.History at 0x265a2b34d30>"
      ]
     },
     "execution_count": 95,
     "metadata": {},
     "output_type": "execute_result"
    }
   ],
   "source": [
    "cnn.fit(x =  train_generator, validation_data = test_set, epochs=25 )"
   ]
  },
  {
   "cell_type": "code",
   "execution_count": 96,
   "id": "184662eb",
   "metadata": {},
   "outputs": [],
   "source": [
    "import numpy as np\n",
    "from keras_preprocessing import image"
   ]
  },
  {
   "cell_type": "code",
   "execution_count": 114,
   "id": "925c90a7",
   "metadata": {},
   "outputs": [
    {
     "name": "stdout",
     "output_type": "stream",
     "text": [
      "1/1 [==============================] - 0s 25ms/step\n"
     ]
    }
   ],
   "source": [
    "# Load the single image we want to predict \n",
    "test_image = image.load_img('dataset/single_prediction/cat_or_dog_1.jpg', target_size = (64,64))\n",
    "test_image = image.img_to_array(test_image)\n",
    "test_image = np.expand_dims(test_image, axis = 0)\n",
    "result = cnn.predict(test_image)"
   ]
  },
  {
   "cell_type": "code",
   "execution_count": 115,
   "id": "da293a50",
   "metadata": {},
   "outputs": [
    {
     "data": {
      "text/plain": [
       "{'cats': 0, 'dogs': 1}"
      ]
     },
     "execution_count": 115,
     "metadata": {},
     "output_type": "execute_result"
    }
   ],
   "source": [
    "# Classes 1 corresponds to dog and 0 to cats \n",
    "train_generator.class_indices"
   ]
  },
  {
   "cell_type": "code",
   "execution_count": 116,
   "id": "5b2494dd",
   "metadata": {},
   "outputs": [
    {
     "data": {
      "text/plain": [
       "0.9999743"
      ]
     },
     "execution_count": 116,
     "metadata": {},
     "output_type": "execute_result"
    }
   ],
   "source": [
    "result[0][0]"
   ]
  },
  {
   "cell_type": "code",
   "execution_count": 117,
   "id": "787ec670",
   "metadata": {},
   "outputs": [],
   "source": [
    "if result[0][0] >=  .5: \n",
    "    prediction = 'dog'\n",
    "elif result[0][0] < .5:\n",
    "    prediction = 'cat'"
   ]
  },
  {
   "cell_type": "code",
   "execution_count": 118,
   "id": "eba15f22",
   "metadata": {},
   "outputs": [
    {
     "name": "stdout",
     "output_type": "stream",
     "text": [
      "dog\n"
     ]
    }
   ],
   "source": [
    "print(prediction)"
   ]
  },
  {
   "cell_type": "code",
   "execution_count": null,
   "id": "c1099716",
   "metadata": {},
   "outputs": [],
   "source": []
  }
 ],
 "metadata": {
  "kernelspec": {
   "display_name": "Python 3",
   "language": "python",
   "name": "python3"
  },
  "language_info": {
   "codemirror_mode": {
    "name": "ipython",
    "version": 3
   },
   "file_extension": ".py",
   "mimetype": "text/x-python",
   "name": "python",
   "nbconvert_exporter": "python",
   "pygments_lexer": "ipython3",
   "version": "3.8.8"
  }
 },
 "nbformat": 4,
 "nbformat_minor": 5
}
